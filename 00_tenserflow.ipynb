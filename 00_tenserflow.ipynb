{
  "nbformat": 4,
  "nbformat_minor": 0,
  "metadata": {
    "colab": {
      "provenance": [],
      "authorship_tag": "ABX9TyOv9xQ50fh2flkrPGh17kGx",
      "include_colab_link": true
    },
    "kernelspec": {
      "name": "python3",
      "display_name": "Python 3"
    },
    "language_info": {
      "name": "python"
    }
  },
  "cells": [
    {
      "cell_type": "markdown",
      "metadata": {
        "id": "view-in-github",
        "colab_type": "text"
      },
      "source": [
        "<a href=\"https://colab.research.google.com/github/trnayak11/Tensor/blob/main/00_tenserflow.ipynb\" target=\"_parent\"><img src=\"https://colab.research.google.com/assets/colab-badge.svg\" alt=\"Open In Colab\"/></a>"
      ]
    },
    {
      "cell_type": "code",
      "execution_count": null,
      "metadata": {
        "colab": {
          "base_uri": "https://localhost:8080/"
        },
        "id": "n0Mxe10WCo07",
        "outputId": "5d7a36e9-7be7-4f32-959a-9f328fa03cb8"
      },
      "outputs": [
        {
          "output_type": "stream",
          "name": "stdout",
          "text": [
            "2.17.0\n"
          ]
        }
      ],
      "source": [
        "# Tensor flow fundamental\n",
        "import tensorflow as tf\n",
        "print(tf.__version__)"
      ]
    },
    {
      "cell_type": "code",
      "source": [
        "#create tensor with tf.constant\n",
        "scalar = tf.constant(8)\n",
        "scalar\n",
        "scalar.ndim"
      ],
      "metadata": {
        "colab": {
          "base_uri": "https://localhost:8080/"
        },
        "id": "uUlFFzZ7ECyM",
        "outputId": "4174b0ce-094a-47fc-dd24-8edc36daf566"
      },
      "execution_count": null,
      "outputs": [
        {
          "output_type": "execute_result",
          "data": {
            "text/plain": [
              "0"
            ]
          },
          "metadata": {},
          "execution_count": 24
        }
      ]
    },
    {
      "cell_type": "code",
      "source": [
        "#create a vector\n",
        "vector = tf.constant([10,10])\n",
        "vector\n",
        "vector.ndim"
      ],
      "metadata": {
        "colab": {
          "base_uri": "https://localhost:8080/"
        },
        "id": "pNY_jDEQGCsF",
        "outputId": "51e2ca70-15c9-46ca-b5fb-e6009b40ef0a"
      },
      "execution_count": null,
      "outputs": [
        {
          "output_type": "execute_result",
          "data": {
            "text/plain": [
              "1"
            ]
          },
          "metadata": {},
          "execution_count": 29
        }
      ]
    },
    {
      "cell_type": "code",
      "source": [
        "matrix = tf.constant([[10,8],[10,8]])\n",
        "matrix\n",
        "matrix.ndim"
      ],
      "metadata": {
        "colab": {
          "base_uri": "https://localhost:8080/"
        },
        "id": "O5LoMR4ULyFL",
        "outputId": "b532ad19-1156-4081-96c9-ffc4546130d4"
      },
      "execution_count": null,
      "outputs": [
        {
          "output_type": "execute_result",
          "data": {
            "text/plain": [
              "2"
            ]
          },
          "metadata": {},
          "execution_count": 32
        }
      ]
    },
    {
      "cell_type": "markdown",
      "source": [],
      "metadata": {
        "id": "UfHlE_JRNgHa"
      }
    },
    {
      "cell_type": "code",
      "source": [
        "matrix = tf.constant([[10,8,5],[10,8,6],[10,8,7]])\n",
        "matrix\n",
        "matrix.ndim"
      ],
      "metadata": {
        "colab": {
          "base_uri": "https://localhost:8080/"
        },
        "id": "SUPgpmTZMDwO",
        "outputId": "2299ee65-fbb8-4dd3-f8e3-7e254e8b59ae"
      },
      "execution_count": null,
      "outputs": [
        {
          "output_type": "execute_result",
          "data": {
            "text/plain": [
              "2"
            ]
          },
          "metadata": {},
          "execution_count": 37
        }
      ]
    },
    {
      "cell_type": "code",
      "source": [
        "matrix_1 = tf.constant([[10,8,5],[10,8,6],[10,8,7]],dtype=tf.float16)\n",
        "#matrix_1\n",
        "matrix_1.ndim"
      ],
      "metadata": {
        "colab": {
          "base_uri": "https://localhost:8080/"
        },
        "id": "MctAhwgIMkwe",
        "outputId": "426ee29c-6736-4a82-aebe-37c319727d96"
      },
      "execution_count": null,
      "outputs": [
        {
          "output_type": "execute_result",
          "data": {
            "text/plain": [
              "2"
            ]
          },
          "metadata": {},
          "execution_count": 43
        }
      ]
    },
    {
      "cell_type": "code",
      "source": [
        "tensor = tf.constant([[[10,8,5]],[[10,8,6]],[[10,8,7]]],dtype=tf.float16)\n",
        "#matrix_1\n",
        "tensor.ndim"
      ],
      "metadata": {
        "colab": {
          "base_uri": "https://localhost:8080/"
        },
        "id": "zHqjLMk3M7TH",
        "outputId": "d3b1bc10-aaa0-4574-a6d0-b9a8e5d7ab3b"
      },
      "execution_count": null,
      "outputs": [
        {
          "output_type": "execute_result",
          "data": {
            "text/plain": [
              "3"
            ]
          },
          "metadata": {},
          "execution_count": 13
        }
      ]
    },
    {
      "cell_type": "code",
      "source": [
        "#Tensor variable\n",
        "change_var = tf.Variable([10,5])\n",
        "unchange_var = tf.constant([15,7])\n",
        "print(change_var[0])\n",
        "#change_var[0]\n",
        "change_var[0].assign(19)\n",
        "print(change_var[0])\n",
        "#unchange_var[0].assign(19)\n",
        "change_var\n",
        "print(type(change_var))"
      ],
      "metadata": {
        "colab": {
          "base_uri": "https://localhost:8080/"
        },
        "id": "UkmXJru-cFdB",
        "outputId": "eeda9df5-5b87-4714-fbbd-005de37fdae0"
      },
      "execution_count": null,
      "outputs": [
        {
          "output_type": "stream",
          "name": "stdout",
          "text": [
            "tf.Tensor(10, shape=(), dtype=int32)\n",
            "tf.Tensor(19, shape=(), dtype=int32)\n",
            "<class 'tensorflow.python.ops.resource_variable_ops.ResourceVariable'>\n"
          ]
        }
      ]
    },
    {
      "cell_type": "code",
      "source": [
        "#creating random tensor\n",
        "random_1 = tf.random.Generator.from_seed(42)\n",
        "random_1 = random_1.normal(shape=(3,3,2))\n",
        "random_2 = tf.random.Generator.from_seed(42)\n",
        "random_2 = random_2.normal(shape=(3,2,3))\n",
        "#random_1, random_2, random_1 == random_2\n",
        "random_1\n"
      ],
      "metadata": {
        "colab": {
          "base_uri": "https://localhost:8080/"
        },
        "id": "nLv50FereCLk",
        "outputId": "903c1f48-b723-4892-c1cf-571f99ec9dde"
      },
      "execution_count": 143,
      "outputs": [
        {
          "output_type": "execute_result",
          "data": {
            "text/plain": [
              "<tf.Tensor: shape=(3, 3, 2), dtype=float32, numpy=\n",
              "array([[[-0.7565803 , -0.06854702],\n",
              "        [ 0.07595026, -1.2573844 ],\n",
              "        [-0.23193763, -1.8107855 ]],\n",
              "\n",
              "       [[ 0.09988727, -0.50998646],\n",
              "        [-0.7535805 , -0.57166284],\n",
              "        [ 0.1480774 , -0.23362993]],\n",
              "\n",
              "       [[-0.3522796 ,  0.40621263],\n",
              "        [-1.0523509 ,  1.2054597 ],\n",
              "        [ 1.6874489 , -0.4462975 ]]], dtype=float32)>"
            ]
          },
          "metadata": {},
          "execution_count": 143
        }
      ]
    },
    {
      "cell_type": "code",
      "source": [
        "#Sufle a tensor\n",
        "tf.random.set_seed(42)\n",
        "not_shuffled = tf.constant([[11,8],[87,63],[98,8]])\n",
        "#not_shuffled+\n",
        "shuffled = tf.random.shuffle(not_shuffled)\n",
        "shuffled"
      ],
      "metadata": {
        "colab": {
          "base_uri": "https://localhost:8080/"
        },
        "id": "0Ll_j3y0gkTY",
        "outputId": "c16b4c60-5c7e-43ad-ea3f-af9247b9fdb9"
      },
      "execution_count": 103,
      "outputs": [
        {
          "output_type": "execute_result",
          "data": {
            "text/plain": [
              "<tf.Tensor: shape=(3, 2), dtype=int32, numpy=\n",
              "array([[87, 63],\n",
              "       [98,  8],\n",
              "       [11,  8]], dtype=int32)>"
            ]
          },
          "metadata": {},
          "execution_count": 103
        }
      ]
    },
    {
      "cell_type": "code",
      "source": [
        "import random\n",
        "random.seed(6)\n",
        "for i in range(5):\n",
        "  print(random.randint(0,100),end=' ')\n",
        "print('\\n')\n",
        "random.seed(6)\n",
        "for i in range(5):\n",
        "  print(random.randint(0,100),end=' ')"
      ],
      "metadata": {
        "colab": {
          "base_uri": "https://localhost:8080/"
        },
        "id": "J_PHMPCOs-Bv",
        "outputId": "9f3c9f09-5ad3-4b37-ee23-7482e6fe3980"
      },
      "execution_count": 106,
      "outputs": [
        {
          "output_type": "stream",
          "name": "stdout",
          "text": [
            "73 10 62 97 33 \n",
            "\n",
            "73 10 62 97 33 "
          ]
        }
      ]
    },
    {
      "cell_type": "code",
      "source": [
        "#Create tensor using numpy ones\n",
        "tf.ones([10,7])"
      ],
      "metadata": {
        "colab": {
          "base_uri": "https://localhost:8080/"
        },
        "id": "9nfQGlzHyM7Y",
        "outputId": "eef11930-4104-4d3c-8d84-dd3b0b2459bf"
      },
      "execution_count": 107,
      "outputs": [
        {
          "output_type": "execute_result",
          "data": {
            "text/plain": [
              "<tf.Tensor: shape=(10, 7), dtype=float32, numpy=\n",
              "array([[1., 1., 1., 1., 1., 1., 1.],\n",
              "       [1., 1., 1., 1., 1., 1., 1.],\n",
              "       [1., 1., 1., 1., 1., 1., 1.],\n",
              "       [1., 1., 1., 1., 1., 1., 1.],\n",
              "       [1., 1., 1., 1., 1., 1., 1.],\n",
              "       [1., 1., 1., 1., 1., 1., 1.],\n",
              "       [1., 1., 1., 1., 1., 1., 1.],\n",
              "       [1., 1., 1., 1., 1., 1., 1.],\n",
              "       [1., 1., 1., 1., 1., 1., 1.],\n",
              "       [1., 1., 1., 1., 1., 1., 1.]], dtype=float32)>"
            ]
          },
          "metadata": {},
          "execution_count": 107
        }
      ]
    },
    {
      "cell_type": "code",
      "source": [
        "import numpy as np\n",
        "numpy_a = np.arange(1, 25, dtype=np.int32)\n",
        "numpy_a\n",
        "a = tf.constant(numpy_a, shape=(2,3,4)) #shape is important to notice.\n",
        "a\n",
        "#a.ndim"
      ],
      "metadata": {
        "colab": {
          "base_uri": "https://localhost:8080/"
        },
        "id": "Jbo4fT6n04PY",
        "outputId": "d813b0c5-c3b1-4003-cf2d-af9c353f4111"
      },
      "execution_count": 177,
      "outputs": [
        {
          "output_type": "execute_result",
          "data": {
            "text/plain": [
              "<tf.Tensor: shape=(2, 3, 4), dtype=int32, numpy=\n",
              "array([[[ 1,  2,  3,  4],\n",
              "        [ 5,  6,  7,  8],\n",
              "        [ 9, 10, 11, 12]],\n",
              "\n",
              "       [[13, 14, 15, 16],\n",
              "        [17, 18, 19, 20],\n",
              "        [21, 22, 23, 24]]], dtype=int32)>"
            ]
          },
          "metadata": {},
          "execution_count": 177
        }
      ]
    }
  ]
}