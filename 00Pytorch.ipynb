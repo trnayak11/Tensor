{
  "nbformat": 4,
  "nbformat_minor": 0,
  "metadata": {
    "colab": {
      "provenance": [],
      "authorship_tag": "ABX9TyMZYnhcMu2wNyosJwixifEZ",
      "include_colab_link": true
    },
    "kernelspec": {
      "name": "python3",
      "display_name": "Python 3"
    },
    "language_info": {
      "name": "python"
    }
  },
  "cells": [
    {
      "cell_type": "markdown",
      "metadata": {
        "id": "view-in-github",
        "colab_type": "text"
      },
      "source": [
        "<a href=\"https://colab.research.google.com/github/trnayak11/Tensor/blob/main/00Pytorch.ipynb\" target=\"_parent\"><img src=\"https://colab.research.google.com/assets/colab-badge.svg\" alt=\"Open In Colab\"/></a>"
      ]
    },
    {
      "cell_type": "code",
      "execution_count": null,
      "metadata": {
        "colab": {
          "base_uri": "https://localhost:8080/"
        },
        "id": "XvGgFWKyZwFv",
        "outputId": "1fe10171-0caa-457f-da0d-9610d4aefc67"
      },
      "outputs": [
        {
          "output_type": "stream",
          "name": "stdout",
          "text": [
            "2.5.1+cu121\n"
          ]
        }
      ],
      "source": [
        "import torch\n",
        "import pandas as pd\n",
        "import numpy as np\n",
        "from numpy import *\n",
        "import matplotlib.pyplot as  plt\n",
        "\n",
        "print(torch.__version__)"
      ]
    },
    {
      "cell_type": "code",
      "source": [
        "print(\"hello\")"
      ],
      "metadata": {
        "colab": {
          "base_uri": "https://localhost:8080/"
        },
        "id": "olCNyaSDaDdS",
        "outputId": "fda6895a-57fe-449c-9eb5-1604e6b2dac0"
      },
      "execution_count": null,
      "outputs": [
        {
          "output_type": "stream",
          "name": "stdout",
          "text": [
            "hello\n"
          ]
        }
      ]
    },
    {
      "cell_type": "code",
      "source": [
        "scalar = torch.tensor(7)\n",
        "scalar\n",
        "#scalar.ndim"
      ],
      "metadata": {
        "colab": {
          "base_uri": "https://localhost:8080/"
        },
        "id": "9cW8333saOTu",
        "outputId": "5eeb87ca-ebcd-4697-b7ba-a44e792713c9"
      },
      "execution_count": null,
      "outputs": [
        {
          "output_type": "execute_result",
          "data": {
            "text/plain": [
              "tensor(7)"
            ]
          },
          "metadata": {},
          "execution_count": 5
        }
      ]
    },
    {
      "cell_type": "code",
      "source": [
        "vector = torch.tensor([2,5])\n",
        "vector\n",
        "vector.ndim\n",
        "vector.shape"
      ],
      "metadata": {
        "colab": {
          "base_uri": "https://localhost:8080/"
        },
        "id": "Vm3qgjZxbQup",
        "outputId": "29dbc6d5-38bd-4e7d-81fc-a2a57eb82003"
      },
      "execution_count": null,
      "outputs": [
        {
          "output_type": "execute_result",
          "data": {
            "text/plain": [
              "torch.Size([2])"
            ]
          },
          "metadata": {},
          "execution_count": 6
        }
      ]
    },
    {
      "cell_type": "code",
      "source": [
        "#matrix\n",
        "matrix = torch.tensor([2,3])\n",
        "matrix.shape\n",
        "matrix.ndim"
      ],
      "metadata": {
        "colab": {
          "base_uri": "https://localhost:8080/"
        },
        "id": "pgBOl3uYb16_",
        "outputId": "e9a4982b-2902-4e15-b09e-b7076f902508"
      },
      "execution_count": null,
      "outputs": [
        {
          "output_type": "execute_result",
          "data": {
            "text/plain": [
              "1"
            ]
          },
          "metadata": {},
          "execution_count": 7
        }
      ]
    },
    {
      "cell_type": "code",
      "source": [
        "#matrix\n",
        "matrix = torch.tensor([[2,3],[4,7],[4,7]])\n",
        "matrix.shape\n",
        "matrix.ndim"
      ],
      "metadata": {
        "colab": {
          "base_uri": "https://localhost:8080/"
        },
        "id": "CeXE8tRTcp01",
        "outputId": "30e5e694-450e-4c14-be76-8eef549b12b8"
      },
      "execution_count": null,
      "outputs": [
        {
          "output_type": "execute_result",
          "data": {
            "text/plain": [
              "2"
            ]
          },
          "metadata": {},
          "execution_count": 8
        }
      ]
    },
    {
      "cell_type": "code",
      "source": [
        "#matrix\n",
        "matrix = torch.tensor([[[2,3]],[[4,7]],[[4,7]]])\n",
        "matrix.shape\n",
        "#matrix.ndim"
      ],
      "metadata": {
        "colab": {
          "base_uri": "https://localhost:8080/"
        },
        "id": "as_FZ51cc_Xw",
        "outputId": "b2099330-33e9-4f55-cc7a-94e913cc4dbd"
      },
      "execution_count": null,
      "outputs": [
        {
          "output_type": "execute_result",
          "data": {
            "text/plain": [
              "torch.Size([3, 1, 2])"
            ]
          },
          "metadata": {},
          "execution_count": 9
        }
      ]
    },
    {
      "cell_type": "code",
      "source": [
        "random_tensor = torch.rand(size=(1,2,3,2))\n",
        "random_tensor"
      ],
      "metadata": {
        "colab": {
          "base_uri": "https://localhost:8080/"
        },
        "id": "NcTqBOUTfTYA",
        "outputId": "423caec6-a284-4b2c-d989-6805e3e506ad"
      },
      "execution_count": null,
      "outputs": [
        {
          "output_type": "execute_result",
          "data": {
            "text/plain": [
              "tensor([[[[0.9690, 0.6794],\n",
              "          [0.9263, 0.1241],\n",
              "          [0.9369, 0.8702]],\n",
              "\n",
              "         [[0.0496, 0.4489],\n",
              "          [0.7675, 0.0997],\n",
              "          [0.3117, 0.9703]]]])"
            ]
          },
          "metadata": {},
          "execution_count": 10
        }
      ]
    },
    {
      "cell_type": "code",
      "source": [
        "random_tensor = torch.rand(1,2,3,2)\n",
        "random_tensor"
      ],
      "metadata": {
        "id": "caFfkt5dgXhV",
        "outputId": "cdf9f5bb-5a5b-4040-d485-1506d498dba6",
        "colab": {
          "base_uri": "https://localhost:8080/"
        }
      },
      "execution_count": null,
      "outputs": [
        {
          "output_type": "execute_result",
          "data": {
            "text/plain": [
              "tensor([[[[0.6106, 0.2474],\n",
              "          [0.6378, 0.2914],\n",
              "          [0.8379, 0.7033]],\n",
              "\n",
              "         [[0.4898, 0.5482],\n",
              "          [0.9909, 0.5077],\n",
              "          [0.2713, 0.9743]]]])"
            ]
          },
          "metadata": {},
          "execution_count": 11
        }
      ]
    },
    {
      "cell_type": "code",
      "source": [
        "zeros = torch.zeros(2,3,4)\n",
        "zeros"
      ],
      "metadata": {
        "colab": {
          "base_uri": "https://localhost:8080/"
        },
        "id": "MezrMm1r8T8g",
        "outputId": "6eeff102-ce49-4e5f-9153-f69dc844371d"
      },
      "execution_count": null,
      "outputs": [
        {
          "output_type": "execute_result",
          "data": {
            "text/plain": [
              "tensor([[[0., 0., 0., 0.],\n",
              "         [0., 0., 0., 0.],\n",
              "         [0., 0., 0., 0.]],\n",
              "\n",
              "        [[0., 0., 0., 0.],\n",
              "         [0., 0., 0., 0.],\n",
              "         [0., 0., 0., 0.]]])"
            ]
          },
          "metadata": {},
          "execution_count": 12
        }
      ]
    },
    {
      "cell_type": "code",
      "source": [
        "#range of tensor\n",
        "torch.arange(0,10)"
      ],
      "metadata": {
        "colab": {
          "base_uri": "https://localhost:8080/"
        },
        "id": "qIYqQwFu9PLm",
        "outputId": "f941c41e-e562-482e-c0da-0415f2de9ffd"
      },
      "execution_count": null,
      "outputs": [
        {
          "output_type": "execute_result",
          "data": {
            "text/plain": [
              "tensor([0, 1, 2, 3, 4, 5, 6, 7, 8, 9])"
            ]
          },
          "metadata": {},
          "execution_count": 13
        }
      ]
    },
    {
      "cell_type": "code",
      "source": [
        "torch_arang = torch.arange(start=1, end=1011, step=100)\n",
        "torch_arang"
      ],
      "metadata": {
        "colab": {
          "base_uri": "https://localhost:8080/"
        },
        "id": "UiRd5Ymy9kRC",
        "outputId": "3e025818-7983-4296-aa57-605531e182fa"
      },
      "execution_count": null,
      "outputs": [
        {
          "output_type": "execute_result",
          "data": {
            "text/plain": [
              "tensor([   1,  101,  201,  301,  401,  501,  601,  701,  801,  901, 1001])"
            ]
          },
          "metadata": {},
          "execution_count": 14
        }
      ]
    },
    {
      "cell_type": "code",
      "source": [
        "ten_zeros = torch.ones_like(input = torch_arang)\n",
        "ten_zeros"
      ],
      "metadata": {
        "colab": {
          "base_uri": "https://localhost:8080/"
        },
        "id": "ff4SxoD9-C5_",
        "outputId": "68e09e7b-c0fe-45ed-947e-23f037a37a21"
      },
      "execution_count": null,
      "outputs": [
        {
          "output_type": "execute_result",
          "data": {
            "text/plain": [
              "tensor([1, 1, 1, 1, 1, 1, 1, 1, 1, 1, 1])"
            ]
          },
          "metadata": {},
          "execution_count": 15
        }
      ]
    },
    {
      "cell_type": "code",
      "source": [
        "tensor_float = torch.tensor([3.2,2.5,8.6],dtype=None)\n",
        "tensor_float.dtype"
      ],
      "metadata": {
        "colab": {
          "base_uri": "https://localhost:8080/"
        },
        "id": "in2XW8gtxcsi",
        "outputId": "189345d7-6d9b-41f5-c5cf-d5f9c1ca4a0b"
      },
      "execution_count": null,
      "outputs": [
        {
          "output_type": "execute_result",
          "data": {
            "text/plain": [
              "torch.float32"
            ]
          },
          "metadata": {},
          "execution_count": 16
        }
      ]
    },
    {
      "cell_type": "code",
      "source": [
        "tensor_float_32 = torch.tensor([3.2,2.5,8.6],dtype=torch.int32,device=None,requires_grad=False)\n",
        "tensor_float_32\n",
        "#tensor_float.dtype"
      ],
      "metadata": {
        "colab": {
          "base_uri": "https://localhost:8080/"
        },
        "id": "eG2ppznHxu8q",
        "outputId": "4d457737-6c51-4a93-a5af-3d8a3f4c1cc8"
      },
      "execution_count": null,
      "outputs": [
        {
          "output_type": "execute_result",
          "data": {
            "text/plain": [
              "tensor([3, 2, 8], dtype=torch.int32)"
            ]
          },
          "metadata": {},
          "execution_count": 17
        }
      ]
    },
    {
      "cell_type": "code",
      "source": [
        "tensor_float_16 = torch.tensor([3.2,2.5,8.6],dtype=torch.int16,device=None,requires_grad=False)\n",
        "tensor_float_16"
      ],
      "metadata": {
        "colab": {
          "base_uri": "https://localhost:8080/"
        },
        "id": "QEOKl6cW1fLp",
        "outputId": "3f0b8356-6534-4f0c-8a4b-bff2de0562c3"
      },
      "execution_count": null,
      "outputs": [
        {
          "output_type": "execute_result",
          "data": {
            "text/plain": [
              "tensor([3, 2, 8], dtype=torch.int16)"
            ]
          },
          "metadata": {},
          "execution_count": 18
        }
      ]
    },
    {
      "cell_type": "code",
      "source": [
        "tensor_float_32 * tensor_float_16"
      ],
      "metadata": {
        "colab": {
          "base_uri": "https://localhost:8080/"
        },
        "id": "oTDLTlwN1h76",
        "outputId": "acd0927a-b3c2-475a-a606-fa1dad2e568a"
      },
      "execution_count": null,
      "outputs": [
        {
          "output_type": "execute_result",
          "data": {
            "text/plain": [
              "tensor([ 9,  4, 64], dtype=torch.int32)"
            ]
          },
          "metadata": {},
          "execution_count": 19
        }
      ]
    },
    {
      "cell_type": "code",
      "source": [
        "some_tensor = torch.rand(size=(3,4))\n",
        "some_tensor.dtype\n",
        "print(some_tensor)\n",
        "print(f\"Datatype = {some_tensor.dtype}\")\n",
        "print(f\"size = {some_tensor.size()} {some_tensor.shape}\")\n",
        "print(f\"Device = {some_tensor.device}\")"
      ],
      "metadata": {
        "colab": {
          "base_uri": "https://localhost:8080/"
        },
        "id": "Vuh2Qheo2Pn6",
        "outputId": "b25bf458-8c20-40b6-a9cd-61fbb9ee6428"
      },
      "execution_count": null,
      "outputs": [
        {
          "output_type": "stream",
          "name": "stdout",
          "text": [
            "tensor([[0.8073, 0.9717, 0.9179, 0.4475],\n",
            "        [0.8538, 0.9008, 0.2855, 0.9407],\n",
            "        [0.3302, 0.3263, 0.9939, 0.2881]])\n",
            "Datatype = torch.float32\n",
            "size = torch.Size([3, 4]) torch.Size([3, 4])\n",
            "Device = cpu\n"
          ]
        }
      ]
    },
    {
      "cell_type": "code",
      "source": [
        "#manipulating Tensors"
      ],
      "metadata": {
        "id": "MTGg36m955OR"
      },
      "execution_count": null,
      "outputs": []
    },
    {
      "cell_type": "code",
      "source": [
        "#ADITION\n",
        "#SUBTRACTION\n",
        "#MULTIPLICATION\n",
        "#DIVISION\n",
        "#MATRIX MULTIPLICATION"
      ],
      "metadata": {
        "id": "n6Iznf_w57rh"
      },
      "execution_count": null,
      "outputs": []
    },
    {
      "cell_type": "code",
      "source": [
        "#ADITION\n",
        "tensor = torch.tensor([1,2,3])\n",
        "tensor + 10"
      ],
      "metadata": {
        "colab": {
          "base_uri": "https://localhost:8080/"
        },
        "id": "eAhufeEI6jOB",
        "outputId": "6e928476-631c-43f4-fad8-969534b5982e"
      },
      "execution_count": null,
      "outputs": [
        {
          "output_type": "execute_result",
          "data": {
            "text/plain": [
              "tensor([11, 12, 13])"
            ]
          },
          "metadata": {},
          "execution_count": 23
        }
      ]
    },
    {
      "cell_type": "code",
      "source": [
        "tensor1 = torch.tensor([1,2,3])\n",
        "tensor2 = torch.tensor([1,2,3])\n",
        "tensor1 + tensor2"
      ],
      "metadata": {
        "colab": {
          "base_uri": "https://localhost:8080/"
        },
        "id": "L5pgAth269Wo",
        "outputId": "61d82cc7-75d2-418e-b2c2-b6bcfa441b36"
      },
      "execution_count": null,
      "outputs": [
        {
          "output_type": "execute_result",
          "data": {
            "text/plain": [
              "tensor([2, 4, 6])"
            ]
          },
          "metadata": {},
          "execution_count": 24
        }
      ]
    },
    {
      "cell_type": "code",
      "source": [
        "#MULTIPLICATION\n",
        "tensor1 = torch.tensor([1,2,3])\n",
        "tensor1 * 10\n"
      ],
      "metadata": {
        "colab": {
          "base_uri": "https://localhost:8080/"
        },
        "id": "N9Q_e7Xn7DyE",
        "outputId": "9f9afa72-0f51-4bf9-eebe-b46fc2ff9398"
      },
      "execution_count": null,
      "outputs": [
        {
          "output_type": "execute_result",
          "data": {
            "text/plain": [
              "tensor([10, 20, 30])"
            ]
          },
          "metadata": {},
          "execution_count": 25
        }
      ]
    },
    {
      "cell_type": "code",
      "source": [
        "tensor1 = torch.tensor([1,2,3])\n",
        "tensor2 = torch.tensor([1,2,3])\n",
        "tensor1 * tensor2"
      ],
      "metadata": {
        "colab": {
          "base_uri": "https://localhost:8080/"
        },
        "id": "9qYWU9Y67P8m",
        "outputId": "6dc36470-8b84-4b1e-e690-d4d09a5b1327"
      },
      "execution_count": null,
      "outputs": [
        {
          "output_type": "execute_result",
          "data": {
            "text/plain": [
              "tensor([1, 4, 9])"
            ]
          },
          "metadata": {},
          "execution_count": 26
        }
      ]
    },
    {
      "cell_type": "code",
      "source": [
        "tensor1 = torch.tensor([[1,2,3],[1,2,3]])\n",
        "tensor2 = torch.tensor([[9,6,5]])\n",
        "tensor1 * tensor2"
      ],
      "metadata": {
        "colab": {
          "base_uri": "https://localhost:8080/"
        },
        "id": "UJVaVR7D7l6r",
        "outputId": "86cd350f-d59f-4031-d7ee-83fee460995d"
      },
      "execution_count": null,
      "outputs": [
        {
          "output_type": "execute_result",
          "data": {
            "text/plain": [
              "tensor([[ 9, 12, 15],\n",
              "        [ 9, 12, 15]])"
            ]
          },
          "metadata": {},
          "execution_count": 27
        }
      ]
    },
    {
      "cell_type": "code",
      "source": [
        "# sameway it works for all operation. The above multiplication is element matriplication. The other way is to go for a matrix multiplication"
      ],
      "metadata": {
        "id": "8JdfjJa97wbU"
      },
      "execution_count": null,
      "outputs": []
    },
    {
      "cell_type": "code",
      "source": [
        "tensor1 = torch.tensor([[1,2,3],[1,2,3]])\n",
        "tensor2 = torch.tensor([[9,6,5],[1,2,3]])\n",
        "tensor1 * tensor2"
      ],
      "metadata": {
        "colab": {
          "base_uri": "https://localhost:8080/"
        },
        "id": "dCYfJKpu70yW",
        "outputId": "01e18b7e-1f5a-469f-b5ef-38126474e1ca"
      },
      "execution_count": null,
      "outputs": [
        {
          "output_type": "execute_result",
          "data": {
            "text/plain": [
              "tensor([[ 9, 12, 15],\n",
              "        [ 1,  4,  9]])"
            ]
          },
          "metadata": {},
          "execution_count": 29
        }
      ]
    },
    {
      "cell_type": "code",
      "source": [
        "mat_1 = torch.tensor([1,2,3])\n",
        "mat_2 = torch.tensor([1,2,3])\n",
        "torch.matmul(mat_1,mat_2)\n",
        "mat_1.ndim"
      ],
      "metadata": {
        "colab": {
          "base_uri": "https://localhost:8080/"
        },
        "id": "Q6zC1bY4JfNk",
        "outputId": "ee465a84-aae0-4ff5-8a8d-9b7a2ac42992"
      },
      "execution_count": null,
      "outputs": [
        {
          "output_type": "execute_result",
          "data": {
            "text/plain": [
              "1"
            ]
          },
          "metadata": {},
          "execution_count": 30
        }
      ]
    },
    {
      "cell_type": "code",
      "source": [
        "#matrix multiplication rule:-\n",
        "# the inner dimension must match\n",
        "# resulting matrix is same in shape of outer dimension\n",
        "\n",
        "tensor_1 = torch.rand(size=(3,2))\n",
        "print(tensor_1)\n",
        "tensor_2 = torch.rand(size=(3,2))\n",
        "print(tensor_2)\n",
        "torch.matmul(tensor_1,tensor_2) # can not be done as inner dimension is not matching. shape (3,2), (3,2).. Here first element is outer dimension and second element is inner dimension\n",
        "\n"
      ],
      "metadata": {
        "colab": {
          "base_uri": "https://localhost:8080/",
          "height": 309
        },
        "id": "PhsfzTpiU5sc",
        "outputId": "7b5ba3a1-8275-4c9c-e80a-71163d6962fb"
      },
      "execution_count": null,
      "outputs": [
        {
          "output_type": "stream",
          "name": "stdout",
          "text": [
            "tensor([[0.6161, 0.6495],\n",
            "        [0.2192, 0.2887],\n",
            "        [0.9241, 0.8551]])\n",
            "tensor([[0.7597, 0.1949],\n",
            "        [0.4801, 0.7897],\n",
            "        [0.3754, 0.5286]])\n"
          ]
        },
        {
          "output_type": "error",
          "ename": "RuntimeError",
          "evalue": "mat1 and mat2 shapes cannot be multiplied (3x2 and 3x2)",
          "traceback": [
            "\u001b[0;31m---------------------------------------------------------------------------\u001b[0m",
            "\u001b[0;31mRuntimeError\u001b[0m                              Traceback (most recent call last)",
            "\u001b[0;32m<ipython-input-32-f66d3f181de3>\u001b[0m in \u001b[0;36m<cell line: 9>\u001b[0;34m()\u001b[0m\n\u001b[1;32m      7\u001b[0m \u001b[0mtensor_2\u001b[0m \u001b[0;34m=\u001b[0m \u001b[0mtorch\u001b[0m\u001b[0;34m.\u001b[0m\u001b[0mrand\u001b[0m\u001b[0;34m(\u001b[0m\u001b[0msize\u001b[0m\u001b[0;34m=\u001b[0m\u001b[0;34m(\u001b[0m\u001b[0;36m3\u001b[0m\u001b[0;34m,\u001b[0m\u001b[0;36m2\u001b[0m\u001b[0;34m)\u001b[0m\u001b[0;34m)\u001b[0m\u001b[0;34m\u001b[0m\u001b[0;34m\u001b[0m\u001b[0m\n\u001b[1;32m      8\u001b[0m \u001b[0mprint\u001b[0m\u001b[0;34m(\u001b[0m\u001b[0mtensor_2\u001b[0m\u001b[0;34m)\u001b[0m\u001b[0;34m\u001b[0m\u001b[0;34m\u001b[0m\u001b[0m\n\u001b[0;32m----> 9\u001b[0;31m \u001b[0mtorch\u001b[0m\u001b[0;34m.\u001b[0m\u001b[0mmatmul\u001b[0m\u001b[0;34m(\u001b[0m\u001b[0mtensor_1\u001b[0m\u001b[0;34m,\u001b[0m\u001b[0mtensor_2\u001b[0m\u001b[0;34m)\u001b[0m \u001b[0;31m# can not be done as inner dimension is not matching. shape (3,2), (3,2).. Here first element is outer dimension and second element is inner dimension\u001b[0m\u001b[0;34m\u001b[0m\u001b[0;34m\u001b[0m\u001b[0m\n\u001b[0m\u001b[1;32m     10\u001b[0m \u001b[0;34m\u001b[0m\u001b[0m\n",
            "\u001b[0;31mRuntimeError\u001b[0m: mat1 and mat2 shapes cannot be multiplied (3x2 and 3x2)"
          ]
        }
      ]
    },
    {
      "cell_type": "code",
      "source": [
        "tensor_1 = torch.rand(size=(3,2))\n",
        "print(tensor_1)\n",
        "tensor_2 = torch.rand(size=(2,2))\n",
        "print(tensor_2)\n",
        "torch.matmul(tensor_1,tensor_2)   # this will work as inner dimension will match"
      ],
      "metadata": {
        "colab": {
          "base_uri": "https://localhost:8080/"
        },
        "id": "OuaIyOuAWGFT",
        "outputId": "36b3f3c0-3697-44a5-e76f-3afa5cc26ce2"
      },
      "execution_count": null,
      "outputs": [
        {
          "output_type": "stream",
          "name": "stdout",
          "text": [
            "tensor([[0.2460, 0.9801],\n",
            "        [0.0193, 0.7488],\n",
            "        [0.8207, 0.2213]])\n",
            "tensor([[0.2263, 0.8511],\n",
            "        [0.2593, 0.0889]])\n"
          ]
        },
        {
          "output_type": "execute_result",
          "data": {
            "text/plain": [
              "tensor([[0.3098, 0.2965],\n",
              "        [0.1985, 0.0830],\n",
              "        [0.2431, 0.7181]])"
            ]
          },
          "metadata": {},
          "execution_count": 33
        }
      ]
    },
    {
      "cell_type": "code",
      "source": [
        "# Test\n",
        "mat_t = [1,2,3]\n",
        "mat_b = [1,2,3]\n",
        "#print(mat_b)\n",
        "result = 0\n",
        "for i in range(len(mat_t)):\n",
        "  #print(mat_t[i])\n",
        "  result += mat_t[i] * mat_t[i]\n",
        "print(result)\n"
      ],
      "metadata": {
        "colab": {
          "base_uri": "https://localhost:8080/"
        },
        "id": "dSuz2FYNYgXz",
        "outputId": "a3caa686-99c5-4359-c70d-210657aeab9c"
      },
      "execution_count": null,
      "outputs": [
        {
          "output_type": "stream",
          "name": "stdout",
          "text": [
            "14\n"
          ]
        }
      ]
    },
    {
      "cell_type": "code",
      "source": [
        "mat_t = [[1,2,3]]\n",
        "mat_b = [[1],[2],[3]]\n",
        "\n",
        "for i in mat_t:\n",
        "  for j in range(len(i)):\n",
        "    print(i[j])\n",
        "    for k in (range(len(mat_b))):\n",
        "      print(mat_b[k])\n",
        "    print(i[j], '+' ,mat_b[j])"
      ],
      "metadata": {
        "colab": {
          "base_uri": "https://localhost:8080/"
        },
        "id": "_5knERLgaN-S",
        "outputId": "be685af4-a329-412b-d49c-ad65142a9797"
      },
      "execution_count": null,
      "outputs": [
        {
          "output_type": "stream",
          "name": "stdout",
          "text": [
            "1\n",
            "[1]\n",
            "[2]\n",
            "[3]\n",
            "1 + [1]\n",
            "2\n",
            "[1]\n",
            "[2]\n",
            "[3]\n",
            "2 + [2]\n",
            "3\n",
            "[1]\n",
            "[2]\n",
            "[3]\n",
            "3 + [3]\n"
          ]
        }
      ]
    },
    {
      "cell_type": "code",
      "source": [
        "mat_m = torch.tensor([[12,7,3],[4 ,5,6],[7 ,8,9]])\n",
        "mat_n = torch.tensor([[5,8,1,2],[6,7,3,0],[4,5,9,1]])\n",
        "torch.matmul(mat_m,mat_n)\n"
      ],
      "metadata": {
        "colab": {
          "base_uri": "https://localhost:8080/"
        },
        "id": "CjcowUkko1Gd",
        "outputId": "7b2b5218-5bc8-48ba-d962-468476d8a71d"
      },
      "execution_count": null,
      "outputs": [
        {
          "output_type": "execute_result",
          "data": {
            "text/plain": [
              "tensor([[114, 160,  60,  27],\n",
              "        [ 74,  97,  73,  14],\n",
              "        [119, 157, 112,  23]])"
            ]
          },
          "metadata": {},
          "execution_count": 36
        }
      ]
    },
    {
      "cell_type": "code",
      "source": [
        "mat_test = torch.tensor([[1,2],[3,4],[5,6]])\n",
        "mat_test.T"
      ],
      "metadata": {
        "colab": {
          "base_uri": "https://localhost:8080/",
          "height": 159
        },
        "id": "duzrRWjvy1Aj",
        "outputId": "ca6c721e-6968-459e-d476-3f650d16fb40"
      },
      "execution_count": null,
      "outputs": [
        {
          "output_type": "error",
          "ename": "NameError",
          "evalue": "name 'torch' is not defined",
          "traceback": [
            "\u001b[0;31m---------------------------------------------------------------------------\u001b[0m",
            "\u001b[0;31mNameError\u001b[0m                                 Traceback (most recent call last)",
            "\u001b[0;32m<ipython-input-1-3f08a40eb38c>\u001b[0m in \u001b[0;36m<cell line: 1>\u001b[0;34m()\u001b[0m\n\u001b[0;32m----> 1\u001b[0;31m \u001b[0mmat_test\u001b[0m \u001b[0;34m=\u001b[0m \u001b[0mtorch\u001b[0m\u001b[0;34m.\u001b[0m\u001b[0mtensor\u001b[0m\u001b[0;34m(\u001b[0m\u001b[0;34m[\u001b[0m\u001b[0;34m[\u001b[0m\u001b[0;36m1\u001b[0m\u001b[0;34m,\u001b[0m\u001b[0;36m2\u001b[0m\u001b[0;34m]\u001b[0m\u001b[0;34m,\u001b[0m\u001b[0;34m[\u001b[0m\u001b[0;36m3\u001b[0m\u001b[0;34m,\u001b[0m\u001b[0;36m4\u001b[0m\u001b[0;34m]\u001b[0m\u001b[0;34m,\u001b[0m\u001b[0;34m[\u001b[0m\u001b[0;36m5\u001b[0m\u001b[0;34m,\u001b[0m\u001b[0;36m6\u001b[0m\u001b[0;34m]\u001b[0m\u001b[0;34m]\u001b[0m\u001b[0;34m)\u001b[0m\u001b[0;34m\u001b[0m\u001b[0;34m\u001b[0m\u001b[0m\n\u001b[0m\u001b[1;32m      2\u001b[0m \u001b[0mmat_test\u001b[0m\u001b[0;34m.\u001b[0m\u001b[0mT\u001b[0m\u001b[0;34m\u001b[0m\u001b[0;34m\u001b[0m\u001b[0m\n",
            "\u001b[0;31mNameError\u001b[0m: name 'torch' is not defined"
          ]
        }
      ]
    },
    {
      "cell_type": "code",
      "source": [
        "#agregation, positional min max\n",
        "x = torch.arange(0,100,10)\n",
        "x\n",
        "x.min()\n",
        "x.max()\n",
        "#x.mean()\n",
        "torch.max(x)\n",
        "x.type(torch.float32).mean()\n",
        "torch.mean(x.type(torch.float32))\n",
        "x.argmin()\n",
        "x.argmax()"
      ],
      "metadata": {
        "id": "rYbDZTKyzWcR",
        "colab": {
          "base_uri": "https://localhost:8080/"
        },
        "outputId": "3b36d02e-c6f5-4aed-a821-ec2e50852bc5"
      },
      "execution_count": null,
      "outputs": [
        {
          "output_type": "execute_result",
          "data": {
            "text/plain": [
              "tensor(9)"
            ]
          },
          "metadata": {},
          "execution_count": 18
        }
      ]
    },
    {
      "cell_type": "code",
      "source": [
        "#reshapping sqizin stacking\n",
        "\"\"\"\n",
        "reshapng:- reshape a input tensor to a defined shape\n",
        "view:-return a view of an input tensor of certain shape but keep the saame memory as original tensor\n",
        "stacking:- combine multiple tensor on top of each other(vstack) or side bt side(hstack)\n",
        "sqeeze:- removes all 1 dimensios from a tensor\n",
        "unsqeeze:- add one 1 dimension to a target tensor\n",
        "permute:- return a view of the input with dimension permuted(swapped) in a certain way\n",
        "\n",
        "\"\"\"\n",
        "import torch\n",
        "x= torch.arange(1.,10.)\n",
        "\n",
        "x, x.shape"
      ],
      "metadata": {
        "id": "IeyvWkr4Oa_B",
        "colab": {
          "base_uri": "https://localhost:8080/"
        },
        "outputId": "5a4797c9-cdb5-4dcc-c377-7422549e3d33"
      },
      "execution_count": 26,
      "outputs": [
        {
          "output_type": "execute_result",
          "data": {
            "text/plain": [
              "(tensor([1., 2., 3., 4., 5., 6., 7., 8., 9.]), torch.Size([9]))"
            ]
          },
          "metadata": {},
          "execution_count": 26
        }
      ]
    },
    {
      "cell_type": "code",
      "source": [
        "x_reshaped = x.reshape(1,9)\n",
        "x_reshaped, x_reshaped.shape"
      ],
      "metadata": {
        "colab": {
          "base_uri": "https://localhost:8080/"
        },
        "id": "-TkQJwImR9Vc",
        "outputId": "1f98af88-34fb-4f68-ae8b-0950c02a365e"
      },
      "execution_count": 25,
      "outputs": [
        {
          "output_type": "execute_result",
          "data": {
            "text/plain": [
              "(tensor([[1., 2., 3., 4., 5., 6., 7., 8., 9.]]), torch.Size([1, 9]))"
            ]
          },
          "metadata": {},
          "execution_count": 25
        }
      ]
    }
  ]
}