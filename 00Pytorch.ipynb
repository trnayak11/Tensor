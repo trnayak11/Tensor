{
  "nbformat": 4,
  "nbformat_minor": 0,
  "metadata": {
    "colab": {
      "provenance": [],
      "authorship_tag": "ABX9TyN+pdhdQedsGGHYbh+hlHZG",
      "include_colab_link": true
    },
    "kernelspec": {
      "name": "python3",
      "display_name": "Python 3"
    },
    "language_info": {
      "name": "python"
    }
  },
  "cells": [
    {
      "cell_type": "markdown",
      "metadata": {
        "id": "view-in-github",
        "colab_type": "text"
      },
      "source": [
        "<a href=\"https://colab.research.google.com/github/trnayak11/Tensor/blob/main/00Pytorch.ipynb\" target=\"_parent\"><img src=\"https://colab.research.google.com/assets/colab-badge.svg\" alt=\"Open In Colab\"/></a>"
      ]
    },
    {
      "cell_type": "code",
      "execution_count": null,
      "metadata": {
        "colab": {
          "base_uri": "https://localhost:8080/"
        },
        "id": "XvGgFWKyZwFv",
        "outputId": "9cb6b103-fe84-4bfd-b4b5-379e1ba75812"
      },
      "outputs": [
        {
          "output_type": "stream",
          "name": "stdout",
          "text": [
            "2.5.1+cu121\n"
          ]
        }
      ],
      "source": [
        "import torch\n",
        "import pandas as pd\n",
        "import numpy as np\n",
        "from numpy import *\n",
        "import matplotlib.pyplot as  plt\n",
        "\n",
        "print(torch.__version__)"
      ]
    },
    {
      "cell_type": "code",
      "source": [
        "print(\"hello\")"
      ],
      "metadata": {
        "colab": {
          "base_uri": "https://localhost:8080/"
        },
        "id": "olCNyaSDaDdS",
        "outputId": "83e2e208-7876-4a77-f4f0-db7b0500292e"
      },
      "execution_count": null,
      "outputs": [
        {
          "output_type": "stream",
          "name": "stdout",
          "text": [
            "hello\n"
          ]
        }
      ]
    },
    {
      "cell_type": "code",
      "source": [
        "scalar = torch.tensor(7)\n",
        "scalar\n",
        "#scalar.ndim"
      ],
      "metadata": {
        "colab": {
          "base_uri": "https://localhost:8080/"
        },
        "id": "9cW8333saOTu",
        "outputId": "9b17d99b-d9b0-4767-ac01-64ad708acfac"
      },
      "execution_count": null,
      "outputs": [
        {
          "output_type": "execute_result",
          "data": {
            "text/plain": [
              "tensor(7)"
            ]
          },
          "metadata": {},
          "execution_count": 4
        }
      ]
    },
    {
      "cell_type": "code",
      "source": [
        "vector = torch.tensor([2,5])\n",
        "vector\n",
        "vector.ndim\n",
        "vector.shape"
      ],
      "metadata": {
        "colab": {
          "base_uri": "https://localhost:8080/"
        },
        "id": "Vm3qgjZxbQup",
        "outputId": "d411fa7d-02bb-4380-a4ec-5484695e8607"
      },
      "execution_count": null,
      "outputs": [
        {
          "output_type": "execute_result",
          "data": {
            "text/plain": [
              "torch.Size([2])"
            ]
          },
          "metadata": {},
          "execution_count": 5
        }
      ]
    },
    {
      "cell_type": "code",
      "source": [
        "#matrix\n",
        "matrix = torch.tensor([2,3])\n",
        "matrix.shape\n",
        "matrix.ndim"
      ],
      "metadata": {
        "colab": {
          "base_uri": "https://localhost:8080/"
        },
        "id": "pgBOl3uYb16_",
        "outputId": "f12ff55e-ea5d-467b-d759-833dd31acc40"
      },
      "execution_count": null,
      "outputs": [
        {
          "output_type": "execute_result",
          "data": {
            "text/plain": [
              "1"
            ]
          },
          "metadata": {},
          "execution_count": 6
        }
      ]
    },
    {
      "cell_type": "code",
      "source": [
        "#matrix\n",
        "matrix = torch.tensor([[2,3],[4,7],[4,7]])\n",
        "matrix.shape\n",
        "matrix.ndim"
      ],
      "metadata": {
        "colab": {
          "base_uri": "https://localhost:8080/"
        },
        "id": "CeXE8tRTcp01",
        "outputId": "86fdc687-ea95-474d-9666-6b027e7c0fcf"
      },
      "execution_count": null,
      "outputs": [
        {
          "output_type": "execute_result",
          "data": {
            "text/plain": [
              "2"
            ]
          },
          "metadata": {},
          "execution_count": 7
        }
      ]
    },
    {
      "cell_type": "code",
      "source": [
        "#matrix\n",
        "matrix = torch.tensor([[[2,3]],[[4,7]],[[4,7]]])\n",
        "matrix.shape\n",
        "#matrix.ndim"
      ],
      "metadata": {
        "colab": {
          "base_uri": "https://localhost:8080/"
        },
        "id": "as_FZ51cc_Xw",
        "outputId": "b3c0d9d7-fd5c-41d1-c2a8-d358502c7602"
      },
      "execution_count": null,
      "outputs": [
        {
          "output_type": "execute_result",
          "data": {
            "text/plain": [
              "torch.Size([3, 1, 2])"
            ]
          },
          "metadata": {},
          "execution_count": 8
        }
      ]
    },
    {
      "cell_type": "code",
      "source": [
        "random_tensor = torch.rand(size=(1,2,3,2))\n",
        "random_tensor"
      ],
      "metadata": {
        "colab": {
          "base_uri": "https://localhost:8080/"
        },
        "id": "NcTqBOUTfTYA",
        "outputId": "0de84893-0346-4628-b932-09a229443468"
      },
      "execution_count": null,
      "outputs": [
        {
          "output_type": "execute_result",
          "data": {
            "text/plain": [
              "tensor([[[[0.6071, 0.8355],\n",
              "          [0.5089, 0.6003],\n",
              "          [0.2713, 0.0690]],\n",
              "\n",
              "         [[0.1177, 0.4428],\n",
              "          [0.5863, 0.7521],\n",
              "          [0.9221, 0.0099]]]])"
            ]
          },
          "metadata": {},
          "execution_count": 9
        }
      ]
    },
    {
      "cell_type": "code",
      "source": [
        "random_tensor = torch.rand(1,2,3,2)\n",
        "random_tensor"
      ],
      "metadata": {
        "id": "caFfkt5dgXhV",
        "outputId": "f74c5d7f-8bc1-41fe-a5e4-c7ccd7d00dc9",
        "colab": {
          "base_uri": "https://localhost:8080/"
        }
      },
      "execution_count": null,
      "outputs": [
        {
          "output_type": "execute_result",
          "data": {
            "text/plain": [
              "tensor([[[[0.4026, 0.8984],\n",
              "          [0.8412, 0.1466],\n",
              "          [0.8691, 0.5935]],\n",
              "\n",
              "         [[0.1593, 0.9647],\n",
              "          [0.7986, 0.5546],\n",
              "          [0.5604, 0.2760]]]])"
            ]
          },
          "metadata": {},
          "execution_count": 10
        }
      ]
    },
    {
      "cell_type": "code",
      "source": [
        "zeros = torch.zeros(2,3,4)\n",
        "zeros"
      ],
      "metadata": {
        "colab": {
          "base_uri": "https://localhost:8080/"
        },
        "id": "MezrMm1r8T8g",
        "outputId": "4d752850-e7fb-4642-93d9-c1892bc8b048"
      },
      "execution_count": null,
      "outputs": [
        {
          "output_type": "execute_result",
          "data": {
            "text/plain": [
              "tensor([[[0., 0., 0., 0.],\n",
              "         [0., 0., 0., 0.],\n",
              "         [0., 0., 0., 0.]],\n",
              "\n",
              "        [[0., 0., 0., 0.],\n",
              "         [0., 0., 0., 0.],\n",
              "         [0., 0., 0., 0.]]])"
            ]
          },
          "metadata": {},
          "execution_count": 11
        }
      ]
    },
    {
      "cell_type": "code",
      "source": [
        "#range of tensor\n",
        "torch.arange(0,10)"
      ],
      "metadata": {
        "colab": {
          "base_uri": "https://localhost:8080/"
        },
        "id": "qIYqQwFu9PLm",
        "outputId": "2287369e-9c0b-41fc-8c1e-7cd59765794b"
      },
      "execution_count": null,
      "outputs": [
        {
          "output_type": "execute_result",
          "data": {
            "text/plain": [
              "tensor([0, 1, 2, 3, 4, 5, 6, 7, 8, 9])"
            ]
          },
          "metadata": {},
          "execution_count": 12
        }
      ]
    },
    {
      "cell_type": "code",
      "source": [
        "torch_arang = torch.arange(start=1, end=1011, step=100)\n",
        "torch_arang"
      ],
      "metadata": {
        "colab": {
          "base_uri": "https://localhost:8080/"
        },
        "id": "UiRd5Ymy9kRC",
        "outputId": "7579a8e3-b1e8-40d3-cdd9-4373422b2b37"
      },
      "execution_count": null,
      "outputs": [
        {
          "output_type": "execute_result",
          "data": {
            "text/plain": [
              "tensor([   1,  101,  201,  301,  401,  501,  601,  701,  801,  901, 1001])"
            ]
          },
          "metadata": {},
          "execution_count": 13
        }
      ]
    },
    {
      "cell_type": "code",
      "source": [
        "ten_zeros = torch.ones_like(input = torch_arang)\n",
        "ten_zeros"
      ],
      "metadata": {
        "colab": {
          "base_uri": "https://localhost:8080/"
        },
        "id": "ff4SxoD9-C5_",
        "outputId": "8ca8967a-514d-43f2-cf1d-145752886d13"
      },
      "execution_count": null,
      "outputs": [
        {
          "output_type": "execute_result",
          "data": {
            "text/plain": [
              "tensor([1, 1, 1, 1, 1, 1, 1, 1, 1, 1, 1])"
            ]
          },
          "metadata": {},
          "execution_count": 14
        }
      ]
    },
    {
      "cell_type": "code",
      "source": [
        "tensor_float = torch.tensor([3.2,2.5,8.6],dtype=None)\n",
        "tensor_float.dtype"
      ],
      "metadata": {
        "colab": {
          "base_uri": "https://localhost:8080/"
        },
        "id": "in2XW8gtxcsi",
        "outputId": "13e88a63-f521-49d7-963b-e567a3452853"
      },
      "execution_count": null,
      "outputs": [
        {
          "output_type": "execute_result",
          "data": {
            "text/plain": [
              "torch.float32"
            ]
          },
          "metadata": {},
          "execution_count": 17
        }
      ]
    },
    {
      "cell_type": "code",
      "source": [
        "tensor_float_32 = torch.tensor([3.2,2.5,8.6],dtype=torch.int32,device=None,requires_grad=False)\n",
        "tensor_float_32\n",
        "#tensor_float.dtype"
      ],
      "metadata": {
        "colab": {
          "base_uri": "https://localhost:8080/"
        },
        "id": "eG2ppznHxu8q",
        "outputId": "e6fd3e03-d007-40a6-9223-ff410fdec2d0"
      },
      "execution_count": null,
      "outputs": [
        {
          "output_type": "execute_result",
          "data": {
            "text/plain": [
              "tensor([3, 2, 8], dtype=torch.int32)"
            ]
          },
          "metadata": {},
          "execution_count": 43
        }
      ]
    },
    {
      "cell_type": "code",
      "source": [
        "tensor_float_16 = torch.tensor([3.2,2.5,8.6],dtype=torch.int16,device=None,requires_grad=False)\n",
        "tensor_float_16"
      ],
      "metadata": {
        "colab": {
          "base_uri": "https://localhost:8080/"
        },
        "id": "QEOKl6cW1fLp",
        "outputId": "a08999f6-5166-4c98-db64-90430da08eaf"
      },
      "execution_count": null,
      "outputs": [
        {
          "output_type": "execute_result",
          "data": {
            "text/plain": [
              "tensor([3, 2, 8], dtype=torch.int16)"
            ]
          },
          "metadata": {},
          "execution_count": 44
        }
      ]
    },
    {
      "cell_type": "code",
      "source": [
        "tensor_float_32 * tensor_float_16"
      ],
      "metadata": {
        "colab": {
          "base_uri": "https://localhost:8080/"
        },
        "id": "oTDLTlwN1h76",
        "outputId": "9eb3e3b5-6e64-4098-ca94-5a584a4e6d68"
      },
      "execution_count": null,
      "outputs": [
        {
          "output_type": "execute_result",
          "data": {
            "text/plain": [
              "tensor([ 9,  4, 64], dtype=torch.int32)"
            ]
          },
          "metadata": {},
          "execution_count": 46
        }
      ]
    },
    {
      "cell_type": "code",
      "source": [
        "some_tensor = torch.rand(size=(3,4))\n",
        "some_tensor.dtype\n",
        "print(some_tensor)\n",
        "print(f\"Datatype = {some_tensor.dtype}\")\n",
        "print(f\"size = {some_tensor.size()} {some_tensor.shape}\")\n",
        "print(f\"Device = {some_tensor.device}\")"
      ],
      "metadata": {
        "colab": {
          "base_uri": "https://localhost:8080/"
        },
        "id": "Vuh2Qheo2Pn6",
        "outputId": "6e75cc97-f6ef-4180-f0e8-ac346c4ce5bf"
      },
      "execution_count": null,
      "outputs": [
        {
          "output_type": "stream",
          "name": "stdout",
          "text": [
            "tensor([[0.3297, 0.7491, 0.7384, 0.0809],\n",
            "        [0.7128, 0.0512, 0.2419, 0.6647],\n",
            "        [0.4680, 0.7455, 0.6569, 0.4376]])\n",
            "Datatype = torch.float32\n",
            "size = torch.Size([3, 4]) torch.Size([3, 4])\n",
            "Device = cpu\n"
          ]
        }
      ]
    },
    {
      "cell_type": "code",
      "source": [
        "#manipulating Tensors"
      ],
      "metadata": {
        "id": "MTGg36m955OR"
      },
      "execution_count": null,
      "outputs": []
    },
    {
      "cell_type": "code",
      "source": [
        "#ADITION\n",
        "#SUBTRACTION\n",
        "#MULTIPLICATION\n",
        "#DIVISION\n",
        "#MATRIX MULTIPLICATION"
      ],
      "metadata": {
        "id": "n6Iznf_w57rh"
      },
      "execution_count": null,
      "outputs": []
    },
    {
      "cell_type": "code",
      "source": [
        "#ADITION\n",
        "tensor = torch.tensor([1,2,3])\n",
        "tensor + 10"
      ],
      "metadata": {
        "colab": {
          "base_uri": "https://localhost:8080/"
        },
        "id": "eAhufeEI6jOB",
        "outputId": "65dfaeac-4ba5-43ec-c6dd-58d8d5c5d5fb"
      },
      "execution_count": null,
      "outputs": [
        {
          "output_type": "execute_result",
          "data": {
            "text/plain": [
              "tensor([11, 12, 13])"
            ]
          },
          "metadata": {},
          "execution_count": 60
        }
      ]
    },
    {
      "cell_type": "code",
      "source": [
        "tensor1 = torch.tensor([1,2,3])\n",
        "tensor2 = torch.tensor([1,2,3])\n",
        "tensor1 + tensor2"
      ],
      "metadata": {
        "colab": {
          "base_uri": "https://localhost:8080/"
        },
        "id": "L5pgAth269Wo",
        "outputId": "73d5e54d-f3f9-4343-ff8c-e0b9f83ad6e1"
      },
      "execution_count": null,
      "outputs": [
        {
          "output_type": "execute_result",
          "data": {
            "text/plain": [
              "tensor([2, 4, 6])"
            ]
          },
          "metadata": {},
          "execution_count": 62
        }
      ]
    },
    {
      "cell_type": "code",
      "source": [
        "#MULTIPLICATION\n",
        "tensor1 = torch.tensor([1,2,3])\n",
        "tensor1 * 10\n"
      ],
      "metadata": {
        "colab": {
          "base_uri": "https://localhost:8080/"
        },
        "id": "N9Q_e7Xn7DyE",
        "outputId": "81e44a48-cb86-4d9f-ef69-ef69ac1b9f48"
      },
      "execution_count": null,
      "outputs": [
        {
          "output_type": "execute_result",
          "data": {
            "text/plain": [
              "tensor([20, 40, 60])"
            ]
          },
          "metadata": {},
          "execution_count": 64
        }
      ]
    },
    {
      "cell_type": "code",
      "source": [
        "tensor1 = torch.tensor([1,2,3])\n",
        "tensor2 = torch.tensor([1,2,3])\n",
        "tensor1 * tensor2"
      ],
      "metadata": {
        "colab": {
          "base_uri": "https://localhost:8080/"
        },
        "id": "9qYWU9Y67P8m",
        "outputId": "cf479221-83f4-4258-b373-d4f42182a810"
      },
      "execution_count": null,
      "outputs": [
        {
          "output_type": "execute_result",
          "data": {
            "text/plain": [
              "tensor([1, 4, 9])"
            ]
          },
          "metadata": {},
          "execution_count": 66
        }
      ]
    },
    {
      "cell_type": "code",
      "source": [
        "tensor1 = torch.tensor([[1,2,3],[1,2,3]])\n",
        "tensor2 = torch.tensor([[9,6,5]])\n",
        "tensor1 * tensor2"
      ],
      "metadata": {
        "colab": {
          "base_uri": "https://localhost:8080/"
        },
        "id": "UJVaVR7D7l6r",
        "outputId": "6aaa3256-a48a-45c9-a49e-ee7897d779d9"
      },
      "execution_count": null,
      "outputs": [
        {
          "output_type": "execute_result",
          "data": {
            "text/plain": [
              "tensor([[ 9, 12, 15],\n",
              "        [ 9, 12, 15]])"
            ]
          },
          "metadata": {},
          "execution_count": 76
        }
      ]
    },
    {
      "cell_type": "code",
      "source": [
        "# sameway it works for all operation. The above multiplication is element matriplication. The other way is to go for a matrix multiplication"
      ],
      "metadata": {
        "id": "8JdfjJa97wbU"
      },
      "execution_count": null,
      "outputs": []
    },
    {
      "cell_type": "code",
      "source": [
        "tensor1 = torch.tensor([[1,2,3],[1,2,3]])\n",
        "tensor2 = torch.tensor([[9,6,5],[1,2,3]])\n",
        "tensor1 * tensor2"
      ],
      "metadata": {
        "colab": {
          "base_uri": "https://localhost:8080/"
        },
        "id": "dCYfJKpu70yW",
        "outputId": "7132195c-773d-44e2-c9c9-bb81eb726d60"
      },
      "execution_count": null,
      "outputs": [
        {
          "output_type": "execute_result",
          "data": {
            "text/plain": [
              "tensor([[ 9, 12, 15],\n",
              "        [ 1,  4,  9]])"
            ]
          },
          "metadata": {},
          "execution_count": 79
        }
      ]
    },
    {
      "cell_type": "code",
      "source": [
        "mat_1 = torch.tensor([1,2,3])\n",
        "mat_2 = torch.tensor([1,2,3])\n",
        "torch.matmul(mat_1,mat_2)\n",
        "mat_1.ndim"
      ],
      "metadata": {
        "colab": {
          "base_uri": "https://localhost:8080/"
        },
        "id": "Q6zC1bY4JfNk",
        "outputId": "cc7f65f5-6244-41cd-9420-6fcef6995429"
      },
      "execution_count": null,
      "outputs": [
        {
          "output_type": "execute_result",
          "data": {
            "text/plain": [
              "1"
            ]
          },
          "metadata": {},
          "execution_count": 87
        }
      ]
    },
    {
      "cell_type": "code",
      "source": [
        "#matrix multiplication rule:-\n",
        "# the inner dimension must match\n",
        "# resulting matrix is same in shape of outer dimension\n",
        "\n",
        "tensor_1 = torch.rand(size=(3,2))\n",
        "print(tensor_1)\n",
        "tensor_2 = torch.rand(size=(3,2))\n",
        "print(tensor_2)\n",
        "torch.matmul(tensor_1,tensor_2) # can not be done as inner dimension is not matching. shape (3,2), (3,2).. Here first element is outer dimension and second element is inner dimension\n",
        "\n"
      ],
      "metadata": {
        "colab": {
          "base_uri": "https://localhost:8080/",
          "height": 297
        },
        "id": "PhsfzTpiU5sc",
        "outputId": "79aa5344-f17a-4937-802a-9474c6f7d12c"
      },
      "execution_count": null,
      "outputs": [
        {
          "output_type": "stream",
          "name": "stdout",
          "text": [
            "tensor([[0.3546, 0.5221],\n",
            "        [0.0356, 0.6711],\n",
            "        [0.7552, 0.6182]])\n",
            "tensor([[0.0849, 0.8604],\n",
            "        [0.1636, 0.9830],\n",
            "        [0.7962, 0.4685]])\n"
          ]
        },
        {
          "output_type": "error",
          "ename": "RuntimeError",
          "evalue": "mat1 and mat2 shapes cannot be multiplied (3x2 and 3x2)",
          "traceback": [
            "\u001b[0;31m---------------------------------------------------------------------------\u001b[0m",
            "\u001b[0;31mRuntimeError\u001b[0m                              Traceback (most recent call last)",
            "\u001b[0;32m<ipython-input-93-24961ceedb68>\u001b[0m in \u001b[0;36m<cell line: 8>\u001b[0;34m()\u001b[0m\n\u001b[1;32m      6\u001b[0m \u001b[0mtensor_2\u001b[0m \u001b[0;34m=\u001b[0m \u001b[0mtorch\u001b[0m\u001b[0;34m.\u001b[0m\u001b[0mrand\u001b[0m\u001b[0;34m(\u001b[0m\u001b[0msize\u001b[0m\u001b[0;34m=\u001b[0m\u001b[0;34m(\u001b[0m\u001b[0;36m3\u001b[0m\u001b[0;34m,\u001b[0m\u001b[0;36m2\u001b[0m\u001b[0;34m)\u001b[0m\u001b[0;34m)\u001b[0m\u001b[0;34m\u001b[0m\u001b[0;34m\u001b[0m\u001b[0m\n\u001b[1;32m      7\u001b[0m \u001b[0mprint\u001b[0m\u001b[0;34m(\u001b[0m\u001b[0mtensor_2\u001b[0m\u001b[0;34m)\u001b[0m\u001b[0;34m\u001b[0m\u001b[0;34m\u001b[0m\u001b[0m\n\u001b[0;32m----> 8\u001b[0;31m \u001b[0mtorch\u001b[0m\u001b[0;34m.\u001b[0m\u001b[0mmatmul\u001b[0m\u001b[0;34m(\u001b[0m\u001b[0mtensor_1\u001b[0m\u001b[0;34m,\u001b[0m\u001b[0mtensor_2\u001b[0m\u001b[0;34m)\u001b[0m \u001b[0;31m# can not be done as inner dimension is not matching. shape (3,2), (3,2).. Here first element is outer dimension\u001b[0m\u001b[0;34m\u001b[0m\u001b[0;34m\u001b[0m\u001b[0m\n\u001b[0m\u001b[1;32m      9\u001b[0m \u001b[0;34m\u001b[0m\u001b[0m\n",
            "\u001b[0;31mRuntimeError\u001b[0m: mat1 and mat2 shapes cannot be multiplied (3x2 and 3x2)"
          ]
        }
      ]
    },
    {
      "cell_type": "code",
      "source": [
        "tensor_1 = torch.rand(size=(3,2))\n",
        "print(tensor_1)\n",
        "tensor_2 = torch.rand(size=(2,2))\n",
        "print(tensor_2)\n",
        "torch.matmul(tensor_1,tensor_2)   # this will work as inner dimension will match"
      ],
      "metadata": {
        "colab": {
          "base_uri": "https://localhost:8080/"
        },
        "id": "OuaIyOuAWGFT",
        "outputId": "7cad5f58-5c8c-4a79-dd0e-9e3d4895f328"
      },
      "execution_count": null,
      "outputs": [
        {
          "output_type": "stream",
          "name": "stdout",
          "text": [
            "tensor([[0.8013, 0.8272],\n",
            "        [0.1584, 0.0910],\n",
            "        [0.9929, 0.5465]])\n",
            "tensor([[0.7043, 0.7228],\n",
            "        [0.2985, 0.5922]])\n"
          ]
        },
        {
          "output_type": "execute_result",
          "data": {
            "text/plain": [
              "tensor([[0.8112, 1.0690],\n",
              "        [0.1387, 0.1684],\n",
              "        [0.8624, 1.0413]])"
            ]
          },
          "metadata": {},
          "execution_count": 95
        }
      ]
    },
    {
      "cell_type": "code",
      "source": [
        "# Test\n",
        "mat_t = [1,2,3]\n",
        "mat_b = [1,2,3]\n",
        "#print(mat_b)\n",
        "result = 0\n",
        "for i in range(len(mat_t)):\n",
        "  #print(mat_t[i])\n",
        "  result += mat_t[i] * mat_t[i]\n",
        "print(result)\n"
      ],
      "metadata": {
        "colab": {
          "base_uri": "https://localhost:8080/"
        },
        "id": "dSuz2FYNYgXz",
        "outputId": "d90e1650-a2fc-44b4-c34b-c5150865fb06"
      },
      "execution_count": null,
      "outputs": [
        {
          "output_type": "stream",
          "name": "stdout",
          "text": [
            "14\n"
          ]
        }
      ]
    },
    {
      "cell_type": "code",
      "source": [
        "mat_t = [[1,2,3]]\n",
        "mat_b = [[1],[2],[3]]\n",
        "\n",
        "for i in mat_t:\n",
        "  for j in range(len(i)):\n",
        "    print(i[j])\n",
        "    for k in (range(len(mat_b))):\n",
        "      print(mat_b[k])\n",
        "    print(i[j], '+' ,mat_b[j])"
      ],
      "metadata": {
        "colab": {
          "base_uri": "https://localhost:8080/"
        },
        "id": "_5knERLgaN-S",
        "outputId": "aea96251-5b82-49aa-ac75-8f754697bac5"
      },
      "execution_count": null,
      "outputs": [
        {
          "output_type": "stream",
          "name": "stdout",
          "text": [
            "1\n",
            "[1]\n",
            "[2]\n",
            "[3]\n",
            "1 + [1]\n",
            "2\n",
            "[1]\n",
            "[2]\n",
            "[3]\n",
            "2 + [2]\n",
            "3\n",
            "[1]\n",
            "[2]\n",
            "[3]\n",
            "3 + [3]\n"
          ]
        }
      ]
    },
    {
      "cell_type": "code",
      "source": [
        "mat_m = torch.tensor([[12,7,3],[4 ,5,6],[7 ,8,9]])\n",
        "mat_n = torch.tensor([[5,8,1,2],[6,7,3,0],[4,5,9,1]])\n",
        "torch.matmul(mat_m,mat_n)\n"
      ],
      "metadata": {
        "colab": {
          "base_uri": "https://localhost:8080/"
        },
        "id": "CjcowUkko1Gd",
        "outputId": "a3cc206b-6acd-409f-e54f-3f2c540027f4"
      },
      "execution_count": null,
      "outputs": [
        {
          "output_type": "execute_result",
          "data": {
            "text/plain": [
              "tensor([[114, 160,  60,  27],\n",
              "        [ 74,  97,  73,  14],\n",
              "        [119, 157, 112,  23]])"
            ]
          },
          "metadata": {},
          "execution_count": 135
        }
      ]
    }
  ]
}